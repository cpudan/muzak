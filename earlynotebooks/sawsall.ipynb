{
 "cells": [
  {
   "cell_type": "code",
   "execution_count": 99,
   "metadata": {},
   "outputs": [],
   "source": [
    "from supriya import *\n",
    "server = Server()\n",
    "server.boot()\n",
    "group = Group()\n",
    "group = group.allocate()"
   ]
  },
  {
   "cell_type": "code",
   "execution_count": 100,
   "metadata": {},
   "outputs": [],
   "source": [
    "# The Sawsall\n",
    "\n",
    "\n",
    "builder = SynthDefBuilder(amplitude = 0.5, \n",
    "                          frequency = 220.0, \n",
    "                          gate = 1.0)\n",
    "with builder:     \n",
    "    osc1 = ugens.Saw.ar(frequency=builder['frequency'],)\n",
    "    envelope = ugens.EnvGen.ar(done_action=DoneAction.FREE_SYNTH, \n",
    "                               envelope=Envelope.asr(0.01,0.3,1), \n",
    "                               gate=builder['gate'],)\n",
    "    osc2 = ugens.Saw.ar(frequency=builder['frequency']/4,)\n",
    "    source = 0.5*osc2 + 0.5*osc1 + osc1*osc2\n",
    "    \n",
    "    source = source * builder['amplitude']\n",
    "    source = source * envelope\n",
    "    out = ugens.Out.ar(bus=(0,1), source=source,)\n",
    "    \n",
    "sawsall = builder.build().allocate()"
   ]
  },
  {
   "cell_type": "code",
   "execution_count": 101,
   "metadata": {
    "scrolled": true
   },
   "outputs": [],
   "source": [
    "# The Kick\n",
    "builder = SynthDefBuilder(amplitude = 0.5, \n",
    "                          frequency = 220.0, \n",
    "                          gate = 1.0)\n",
    "with builder:     \n",
    "    source = ugens.SinOsc.ar(frequency=ugens.Line.ar(None,0.2,80,200),)\n",
    "    envelope = ugens.EnvGen.ar(done_action=DoneAction.FREE_SYNTH, \n",
    "                               envelope=Envelope.asr(0.01,0.25,1), \n",
    "                               gate=builder['gate'],)\n",
    "    \n",
    "    source = source * builder['amplitude']\n",
    "    source = source * envelope\n",
    "    out = ugens.Out.ar(bus=(0,1), source=source,)\n",
    "    \n",
    "kick = builder.build().allocate()"
   ]
  },
  {
   "cell_type": "code",
   "execution_count": 89,
   "metadata": {},
   "outputs": [],
   "source": [
    "server.sync()\n",
    "synth = Synth(sawsall)\n",
    "group.append(synth)\n",
    "k = Synth(kick)\n",
    "group.append(k)\n",
    "k['gate'] = 0.0"
   ]
  },
  {
   "cell_type": "code",
   "execution_count": 90,
   "metadata": {},
   "outputs": [],
   "source": [
    "synth['gate'] = 0.0\n",
    "\n"
   ]
  },
  {
   "cell_type": "code",
   "execution_count": 102,
   "metadata": {},
   "outputs": [],
   "source": [
    "from supriya.patterns import *"
   ]
  },
  {
   "cell_type": "code",
   "execution_count": 104,
   "metadata": {},
   "outputs": [],
   "source": [
    "beat = 0.5\n",
    "subdivisions = 4\n",
    "beats = 8\n",
    "\n",
    "patt = Pbind(synthdef = kick, \n",
    "             frequency=Pseq([1], beats), \n",
    "             duration = Pseq([beat], beats))\n",
    "p2 = Pbind(synthdef = sawsall, \n",
    "             frequency=Pseq([220], beats * subdivisions), \n",
    "             duration = Pseq([beat / (subdivisions)], beats * subdivisions),\n",
    "#            delta = Pseq([beat/subdivisions], beats * subdivisions),\n",
    "             amplitude = Pseq([0.25, 0.5, 0.75, 1], beats)\n",
    "          )"
   ]
  },
  {
   "cell_type": "code",
   "execution_count": 96,
   "metadata": {
    "scrolled": true
   },
   "outputs": [
    {
     "data": {
      "text/plain": [
       "RealtimeEventPlayer(\n",
       "    Ppar(\n",
       "        (\n",
       "            (Pbind(\n",
       "                delta=Pseq(\n",
       "                    (0.5,),\n",
       "                    repetitions=8,\n",
       "                    ),\n",
       "                duration=Pseq(\n",
       "                    (0.1,),\n",
       "                    repetitions=8,\n",
       "                    ),\n",
       "                frequency=Pseq(\n",
       "                    (1,),\n",
       "                    repetitions=8,\n",
       "                    ),\n",
       "                synthdef=<SynthDef: 42970b13083edfef45b1fd2cba5f39b9>,\n",
       "                ),),\n",
       "            (Pbind(\n",
       "                amplitude=Pseq(\n",
       "                    (0.25, 0.5, 0.75, 1),\n",
       "                    repetitions=8,\n",
       "                    ),\n",
       "                delta=Pseq(\n",
       "                    (0.125,),\n",
       "                    repetitions=32,\n",
       "                    ),\n",
       "                duration=Pseq(\n",
       "                    (0.08333333333333333,),\n",
       "                    repetitions=32,\n",
       "                    ),\n",
       "                frequency=Pseq(\n",
       "                    (220,),\n",
       "                    repetitions=32,\n",
       "                    ),\n",
       "                synthdef=<SynthDef: 8972cc991bf8df4b514e2ef4f865876d>,\n",
       "                ),),\n",
       "            ),\n",
       "        ),\n",
       "    clock=Clock(),\n",
       "    event_template=NoteEvent(),\n",
       "    server=<Server: udp://127.0.0.1:57751, 8i8o>,\n",
       "    )"
      ]
     },
     "execution_count": 96,
     "metadata": {},
     "output_type": "execute_result"
    },
    {
     "name": "stdout",
     "output_type": "stream",
     "text": [
      "FAILED: size 40\n",
      "   0   2f 66 61 69  6c 00 00 00  2c 73 73 00  2f 6e 5f 73   |/fail...,ss./n_s|\n",
      "  16   65 74 00 00  4e 6f 64 65  20 31 31 36  38 20 6e 6f   |et..Node 1168 no|\n",
      "  32   74 20 66 6f  75 6e 64 00                             |t found.|\n",
      "FAILED: size 40\n",
      "   0   2f 66 61 69  6c 00 00 00  2c 73 73 00  2f 6e 5f 73   |/fail...,ss./n_s|\n",
      "  16   65 74 00 00  4e 6f 64 65  20 31 31 37  38 20 6e 6f   |et..Node 1178 no|\n",
      "  32   74 20 66 6f  75 6e 64 00                             |t found.|\n",
      "FAILED: size 40\n",
      "   0   2f 66 61 69  6c 00 00 00  2c 73 73 00  2f 6e 5f 73   |/fail...,ss./n_s|\n",
      "  16   65 74 00 00  4e 6f 64 65  20 31 31 38  38 20 6e 6f   |et..Node 1188 no|\n",
      "  32   74 20 66 6f  75 6e 64 00                             |t found.|\n",
      "FAILED: size 40\n",
      "   0   2f 66 61 69  6c 00 00 00  2c 73 73 00  2f 6e 5f 73   |/fail...,ss./n_s|\n",
      "  16   65 74 00 00  4e 6f 64 65  20 31 31 39  38 20 6e 6f   |et..Node 1198 no|\n",
      "  32   74 20 66 6f  75 6e 64 00                             |t found.|\n",
      "TIMED OUT: QuitRequest()\n"
     ]
    }
   ],
   "source": [
    "Ppar([patt, p2]).play()"
   ]
  },
  {
   "cell_type": "code",
   "execution_count": 11,
   "metadata": {},
   "outputs": [],
   "source": []
  },
  {
   "cell_type": "code",
   "execution_count": null,
   "metadata": {
    "scrolled": true
   },
   "outputs": [],
   "source": []
  },
  {
   "cell_type": "code",
   "execution_count": null,
   "metadata": {},
   "outputs": [],
   "source": []
  }
 ],
 "metadata": {
  "kernelspec": {
   "display_name": "Python 3",
   "language": "python",
   "name": "python3"
  },
  "language_info": {
   "codemirror_mode": {
    "name": "ipython",
    "version": 3
   },
   "file_extension": ".py",
   "mimetype": "text/x-python",
   "name": "python",
   "nbconvert_exporter": "python",
   "pygments_lexer": "ipython3",
   "version": "3.6.4"
  }
 },
 "nbformat": 4,
 "nbformat_minor": 2
}
