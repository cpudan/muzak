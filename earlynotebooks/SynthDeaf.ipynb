{
 "cells": [
  {
   "cell_type": "code",
   "execution_count": 1,
   "metadata": {},
   "outputs": [],
   "source": [
    "from supriya import *\n",
    "from supriya.ugens import *"
   ]
  },
  {
   "cell_type": "code",
   "execution_count": null,
   "metadata": {},
   "outputs": [],
   "source": []
  },
  {
   "cell_type": "code",
   "execution_count": 13,
   "metadata": {},
   "outputs": [],
   "source": [
    "server = Server(ip_address=\"192.168.1.65\", port=57751)"
   ]
  },
  {
   "cell_type": "code",
   "execution_count": 14,
   "metadata": {},
   "outputs": [
    {
     "data": {
      "text/plain": [
       "<Server: offline>"
      ]
     },
     "execution_count": 14,
     "metadata": {},
     "output_type": "execute_result"
    }
   ],
   "source": [
    "server.get_default_server()"
   ]
  },
  {
   "cell_type": "code",
   "execution_count": null,
   "metadata": {},
   "outputs": [],
   "source": [
    "group = Group()\n",
    "group = group.allocate()"
   ]
  },
  {
   "cell_type": "code",
   "execution_count": null,
   "metadata": {},
   "outputs": [],
   "source": [
    "uggraph = LFNoise2.ar()\n",
    "result = uggraph.transpose([0, 3, 7])"
   ]
  },
  {
   "cell_type": "code",
   "execution_count": null,
   "metadata": {},
   "outputs": [],
   "source": [
    "with SynthDefBuilder(amplitude = 0.5, \n",
    "                frequency = 220.0, \n",
    "                      gate = 1.0,\n",
    "                      b1 = 0,\n",
    "                      b2 = 1) as builder:     \n",
    "    source = ugens.SinOsc.ar(frequency=builder['frequency'],)\n",
    "    envelope = ugens.EnvGen.kr(done_action=DoneAction.FREE_SYNTH, \n",
    "                               envelope=Envelope.asr(), \n",
    "                               gate=builder['gate'],)\n",
    "    source = source * builder['amplitude'] * envelope\n",
    "    out = ugens.Out.ar(bus=(builder['b1'], builder['b2']), source=source,)\n",
    "    synthdef = builder.build().allocate() # this is how one creates a synthdef. Equivalent of .add, I guess\n",
    "s.sync()"
   ]
  },
  {
   "cell_type": "code",
   "execution_count": null,
   "metadata": {},
   "outputs": [],
   "source": [
    "import abjad\n",
    "from abjad.ext import ipython\n",
    "%load_ext abjad.ext.ipython"
   ]
  },
  {
   "cell_type": "code",
   "execution_count": null,
   "metadata": {},
   "outputs": [],
   "source": [
    "g = synthdef.__graph__()"
   ]
  },
  {
   "cell_type": "code",
   "execution_count": null,
   "metadata": {},
   "outputs": [],
   "source": [
    "show(g)"
   ]
  },
  {
   "cell_type": "code",
   "execution_count": null,
   "metadata": {},
   "outputs": [],
   "source": [
    "graph(synthdef)"
   ]
  },
  {
   "cell_type": "code",
   "execution_count": null,
   "metadata": {},
   "outputs": [],
   "source": []
  }
 ],
 "metadata": {
  "kernelspec": {
   "display_name": "Python 3",
   "language": "python",
   "name": "python3"
  },
  "language_info": {
   "codemirror_mode": {
    "name": "ipython",
    "version": 3
   },
   "file_extension": ".py",
   "mimetype": "text/x-python",
   "name": "python",
   "nbconvert_exporter": "python",
   "pygments_lexer": "ipython3",
   "version": "3.6.5"
  }
 },
 "nbformat": 4,
 "nbformat_minor": 2
}
