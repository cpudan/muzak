{
 "cells": [
  {
   "cell_type": "code",
   "execution_count": 17,
   "metadata": {},
   "outputs": [],
   "source": [
    "from supriya import *\n",
    "server = Server()"
   ]
  },
  {
   "cell_type": "code",
   "execution_count": 18,
   "metadata": {},
   "outputs": [
    {
     "data": {
      "text/plain": [
       "<Server: udp://127.0.0.1:57751, 8i8o>"
      ]
     },
     "execution_count": 18,
     "metadata": {},
     "output_type": "execute_result"
    }
   ],
   "source": [
    "server.boot()"
   ]
  },
  {
   "cell_type": "code",
   "execution_count": 19,
   "metadata": {},
   "outputs": [
    {
     "data": {
      "text/plain": [
       "True"
      ]
     },
     "execution_count": 19,
     "metadata": {},
     "output_type": "execute_result"
    }
   ],
   "source": [
    "server.is_running"
   ]
  },
  {
   "cell_type": "markdown",
   "metadata": {},
   "source": [
    "## We want to build a synthdef that will output to whatever a buffer of a fixed length, then we want to write to that buffer, and then play back that buffer"
   ]
  },
  {
   "cell_type": "code",
   "execution_count": 20,
   "metadata": {},
   "outputs": [],
   "source": [
    "from supriya.ugens import *\n",
    "sr = 44.1 * 1000\n",
    "seconds = 100\n",
    "nframes = sr * seconds\n",
    "b = Buffer()\n",
    "b = b.allocate(frame_count=nframes,\n",
    "               channel_count=2)"
   ]
  },
  {
   "cell_type": "code",
   "execution_count": 21,
   "metadata": {},
   "outputs": [],
   "source": [
    "def newSynthDefBufWr(buffer):\n",
    "    with SynthDefBuilder() as builder:\n",
    "        phase = Phasor.ar(rate = BufRateScale.kr(buffer_id=buffer.buffer_id),\n",
    "                          start = 0,\n",
    "                          stop = BufFrames.kr(buffer_id=buffer.buffer_id))\n",
    "        source = SoundIn.ar(bus=(0,1))\n",
    "#         source = (SinOsc.ar(220), SinOsc.ar(220*(3/4)))\n",
    "        source = BufWr.ar(\n",
    "            buffer_id=b.buffer_id,\n",
    "            loop=0,\n",
    "            phase=phase,\n",
    "            source=source\n",
    "        )\n",
    "        out = Out.ar(bus=(4,5), source=source)\n",
    "    synthdef = builder.build().allocate()\n",
    "    server.sync()\n",
    "    return synthdef"
   ]
  },
  {
   "cell_type": "code",
   "execution_count": 22,
   "metadata": {},
   "outputs": [],
   "source": [
    "bufwr = newSynthDefBufWr(b)"
   ]
  },
  {
   "cell_type": "code",
   "execution_count": 83,
   "metadata": {},
   "outputs": [],
   "source": [
    "# def newSynthDefBufRd(buffer, end):\n",
    "with SynthDefBuilder(buffer = 0,\n",
    "                     rate = 1, \n",
    "                     trig = 0,\n",
    "                     loop=0,\n",
    "                     start=0,\n",
    "                     end=1) as builder:\n",
    "    buffer = builder['buffer']\n",
    "#     phase = Line.ar(start=0, stop=builder['end'], duration=builder['rate'])\n",
    "    phase = Phasor.ar(rate = builder['rate']*BufRateScale.kr(buffer_id=buffer),\n",
    "                     start = builder['start'],\n",
    "                     stop = builder['end'], trigger = [SinOsc.ar(frequency=2)]\n",
    "                     )\n",
    "#                           reset_pos = 0,\n",
    "#                           trigger = builder['trig'])\n",
    "    source = BufRd.ar(\n",
    "        buffer_id=buffer,\n",
    "        channel_count=2,\n",
    "        interpolation=2,\n",
    "        loop=0,#builder['loop'],\n",
    "        phase=[phase]*2\n",
    "    )\n",
    "    out = Out.ar(bus=(0,1), source=source)\n",
    "    bufrd = builder.build().allocate()\n",
    "    server.sync()\n",
    "#     return synthdef"
   ]
  },
  {
   "cell_type": "code",
   "execution_count": 24,
   "metadata": {},
   "outputs": [],
   "source": [
    "group = Group()\n",
    "group = group.allocate()"
   ]
  },
  {
   "cell_type": "code",
   "execution_count": 25,
   "metadata": {},
   "outputs": [],
   "source": [
    "import time\n",
    "wrsynth = Synth(bufwr)"
   ]
  },
  {
   "cell_type": "code",
   "execution_count": 26,
   "metadata": {},
   "outputs": [],
   "source": [
    "# start recording\n",
    "start_time = time.time()\n",
    "group.append(wrsynth)"
   ]
  },
  {
   "cell_type": "code",
   "execution_count": 27,
   "metadata": {},
   "outputs": [],
   "source": [
    "# Stop recording\n",
    "end_time = time.time()\n",
    "wrsynth.free()"
   ]
  },
  {
   "cell_type": "code",
   "execution_count": 48,
   "metadata": {},
   "outputs": [],
   "source": [
    "nseconds = end_time - start_time\n",
    "nframes = round(b.sample_rate * nseconds)"
   ]
  },
  {
   "cell_type": "markdown",
   "metadata": {},
   "source": [
    "**TODO**: here we probably want to copy original buffer to new buffer of exact length"
   ]
  },
  {
   "cell_type": "code",
   "execution_count": 85,
   "metadata": {},
   "outputs": [],
   "source": [
    "# Play back recording\n",
    "# bufrd = newSynthDefBufRd(b, round(b.sample_rate * (end_time - start_time)))\n",
    "rdsynth = Synth(bufrd, rate=1, loop=0,buffer=b.buffer_id, start = 0, end=nframes)\n",
    "group.append(rdsynth)"
   ]
  },
  {
   "cell_type": "code",
   "execution_count": 86,
   "metadata": {},
   "outputs": [
    {
     "name": "stdout",
     "output_type": "stream",
     "text": [
      "TIMED OUT: QuitRequest()\n"
     ]
    }
   ],
   "source": [
    "rdsynth.free()"
   ]
  },
  {
   "cell_type": "code",
   "execution_count": 61,
   "metadata": {},
   "outputs": [],
   "source": [
    "rdsynth['start'] = round(nframes / 2.)"
   ]
  },
  {
   "cell_type": "code",
   "execution_count": 165,
   "metadata": {},
   "outputs": [],
   "source": [
    "# Stop playing recording\n",
    "rdsynth.free()"
   ]
  },
  {
   "cell_type": "code",
   "execution_count": 92,
   "metadata": {},
   "outputs": [],
   "source": [
    "rdsynth['trig'] = 0\n",
    "rdsynth['trig'] = 1"
   ]
  },
  {
   "cell_type": "code",
   "execution_count": 25,
   "metadata": {},
   "outputs": [
    {
     "data": {
      "text/plain": [
       "<Group: ???>"
      ]
     },
     "execution_count": 25,
     "metadata": {},
     "output_type": "execute_result"
    }
   ],
   "source": [
    "group.free()"
   ]
  },
  {
   "cell_type": "code",
   "execution_count": 33,
   "metadata": {},
   "outputs": [],
   "source": [
    "rdsynth.free()"
   ]
  }
 ],
 "metadata": {
  "kernelspec": {
   "display_name": "Python 3",
   "language": "python",
   "name": "python3"
  },
  "language_info": {
   "codemirror_mode": {
    "name": "ipython",
    "version": 3
   },
   "file_extension": ".py",
   "mimetype": "text/x-python",
   "name": "python",
   "nbconvert_exporter": "python",
   "pygments_lexer": "ipython3",
   "version": "3.6.5"
  }
 },
 "nbformat": 4,
 "nbformat_minor": 2
}
