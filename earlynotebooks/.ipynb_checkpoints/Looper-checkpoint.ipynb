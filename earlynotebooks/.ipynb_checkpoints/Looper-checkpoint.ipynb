{
 "cells": [
  {
   "cell_type": "code",
   "execution_count": 1,
   "metadata": {},
   "outputs": [
    {
     "data": {
      "text/plain": [
       "<Server: udp://127.0.0.1:57751, 8i8o>"
      ]
     },
     "execution_count": 1,
     "metadata": {},
     "output_type": "execute_result"
    }
   ],
   "source": [
    "from supriya import *\n",
    "server = Server()\n",
    "server.boot()"
   ]
  },
  {
   "cell_type": "code",
   "execution_count": 2,
   "metadata": {},
   "outputs": [
    {
     "data": {
      "text/plain": [
       "<Server: udp://127.0.0.1:57751, 8i8o>"
      ]
     },
     "execution_count": 2,
     "metadata": {},
     "output_type": "execute_result"
    }
   ],
   "source": [
    "with SynthDefBuilder(amplitude = 0.5, \n",
    "                frequency = 220.0, \n",
    "                      gate = 1.0,\n",
    "                      b1 = 0,\n",
    "                      b2 = 1) as builder:     \n",
    "    source = ugens.SinOsc.ar(frequency=builder['frequency'],)\n",
    "    envelope = ugens.EnvGen.kr(done_action=DoneAction.FREE_SYNTH, \n",
    "                               envelope=Envelope.asr(), \n",
    "                               gate=builder['gate'],)\n",
    "    source = source * builder['amplitude'] * envelope\n",
    "    out = ugens.Out.ar(bus=(builder['b1'], builder['b2']), source=source,)\n",
    "    synthdef = builder.build().allocate() # this is how one creates a synthdef. Equivalent of .add, I guess\n",
    "server.sync()"
   ]
  },
  {
   "cell_type": "code",
   "execution_count": 5,
   "metadata": {},
   "outputs": [],
   "source": [
    "synth = Synth(synthdef)"
   ]
  },
  {
   "cell_type": "code",
   "execution_count": 8,
   "metadata": {},
   "outputs": [],
   "source": [
    "group = Group()\n",
    "group = group.allocate()"
   ]
  },
  {
   "cell_type": "code",
   "execution_count": 7,
   "metadata": {},
   "outputs": [],
   "source": [
    "group.append(synth)"
   ]
  },
  {
   "cell_type": "code",
   "execution_count": 8,
   "metadata": {},
   "outputs": [],
   "source": [
    "synth['gate'] = 0"
   ]
  },
  {
   "cell_type": "markdown",
   "metadata": {},
   "source": [
    "## We want to build a synthdef that will output to whatever a buffer of a fixed length, then we want to write to that buffer, and then play back that buffer"
   ]
  },
  {
   "cell_type": "code",
   "execution_count": 3,
   "metadata": {},
   "outputs": [],
   "source": [
    "from supriya.ugens import *"
   ]
  },
  {
   "cell_type": "code",
   "execution_count": 116,
   "metadata": {},
   "outputs": [],
   "source": [
    "b = Buffer()\n",
    "b = b.allocate(frame_count=44100, channel_count=2)"
   ]
  },
  {
   "cell_type": "code",
   "execution_count": 168,
   "metadata": {},
   "outputs": [],
   "source": [
    "def newSynthDefBufWr(buffer):\n",
    "    with SynthDefBuilder() as builder:\n",
    "        phase = Phasor.ar(rate = BufRateScale.kr(buffer_id=buffer.buffer_id),\n",
    "                          start = 0,\n",
    "                          stop = BufFrames.kr(buffer_id=buffer.buffer_id))\n",
    "        source = SoundIn.ar(bus=(0,1))\n",
    "#         source = (SinOsc.ar(220), SinOsc.ar(220*(3/4)))\n",
    "        source = BufWr.ar(\n",
    "            buffer_id=b.buffer_id,\n",
    "            loop=1,\n",
    "            phase=phase,\n",
    "            source=source\n",
    "        )\n",
    "        out = Out.ar(bus=4, source=source)\n",
    "    synthdef = builder.build().allocate()\n",
    "    server.sync()\n",
    "    return synthdef"
   ]
  },
  {
   "cell_type": "code",
   "execution_count": 169,
   "metadata": {},
   "outputs": [],
   "source": [
    "bufwr = newSynthDefBufWr(b)"
   ]
  },
  {
   "cell_type": "code",
   "execution_count": 170,
   "metadata": {},
   "outputs": [],
   "source": [
    "def newSynthDefBufRd(buffer):\n",
    "    with SynthDefBuilder() as builder:\n",
    "        phase = Phasor.ar(rate = BufRateScale.kr(buffer_id=buffer.buffer_id),\n",
    "                          start = 0,\n",
    "                          stop = BufFrames.kr(buffer_id=buffer.buffer_id))\n",
    "        source = BufRd.ar(\n",
    "            buffer_id=buffer.buffer_id,\n",
    "            channel_count=buffer.channel_count,\n",
    "            interpolation=2,\n",
    "            loop=1,\n",
    "            phase=phase\n",
    "        )\n",
    "        out = Out.ar(bus=(0,1), source=source)\n",
    "    synthdef = builder.build().allocate()\n",
    "    server.sync()\n",
    "    return synthdef"
   ]
  },
  {
   "cell_type": "code",
   "execution_count": 171,
   "metadata": {},
   "outputs": [],
   "source": [
    "bufrd = newSynthDefBufRd(b)"
   ]
  },
  {
   "cell_type": "code",
   "execution_count": 172,
   "metadata": {},
   "outputs": [],
   "source": [
    "group = Group()\n",
    "group = group.allocate()"
   ]
  },
  {
   "cell_type": "code",
   "execution_count": 173,
   "metadata": {},
   "outputs": [],
   "source": [
    "wrsynth = Synth(bufwr)\n",
    "rdsynth = Synth(bufrd)"
   ]
  },
  {
   "cell_type": "code",
   "execution_count": 174,
   "metadata": {},
   "outputs": [],
   "source": [
    "group.append(wrsynth)"
   ]
  },
  {
   "cell_type": "code",
   "execution_count": 175,
   "metadata": {},
   "outputs": [],
   "source": [
    "group.append(rdsynth)"
   ]
  },
  {
   "cell_type": "code",
   "execution_count": 176,
   "metadata": {},
   "outputs": [
    {
     "data": {
      "text/plain": [
       "<Group: ???>"
      ]
     },
     "execution_count": 176,
     "metadata": {},
     "output_type": "execute_result"
    }
   ],
   "source": [
    "group.free()"
   ]
  },
  {
   "cell_type": "code",
   "execution_count": 148,
   "metadata": {},
   "outputs": [],
   "source": [
    "rdsynth.free()"
   ]
  },
  {
   "cell_type": "code",
   "execution_count": 149,
   "metadata": {},
   "outputs": [],
   "source": [
    "wrsynth.free()"
   ]
  }
 ],
 "metadata": {
  "kernelspec": {
   "display_name": "Python 3",
   "language": "python",
   "name": "python3"
  },
  "language_info": {
   "codemirror_mode": {
    "name": "ipython",
    "version": 3
   },
   "file_extension": ".py",
   "mimetype": "text/x-python",
   "name": "python",
   "nbconvert_exporter": "python",
   "pygments_lexer": "ipython3",
   "version": "3.6.5"
  }
 },
 "nbformat": 4,
 "nbformat_minor": 2
}
