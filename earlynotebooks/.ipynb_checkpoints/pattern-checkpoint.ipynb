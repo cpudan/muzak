{
 "cells": [
  {
   "cell_type": "code",
   "execution_count": 1,
   "metadata": {},
   "outputs": [],
   "source": [
    "from supriya import *"
   ]
  },
  {
   "cell_type": "code",
   "execution_count": 2,
   "metadata": {},
   "outputs": [
    {
     "data": {
      "text/plain": [
       "<Server: udp://127.0.0.1:57751, 8i8o>"
      ]
     },
     "execution_count": 2,
     "metadata": {},
     "output_type": "execute_result"
    }
   ],
   "source": [
    "server = Server()\n",
    "server.boot()"
   ]
  },
  {
   "cell_type": "code",
   "execution_count": 3,
   "metadata": {},
   "outputs": [],
   "source": [
    "group = Group()\n",
    "group = group.allocate()"
   ]
  },
  {
   "cell_type": "code",
   "execution_count": 4,
   "metadata": {},
   "outputs": [],
   "source": [
    "builder = SynthDefBuilder(amplitude = 0.5, \n",
    "                          frequency = 220.0, \n",
    "                          gate = 1.0)"
   ]
  },
  {
   "cell_type": "code",
   "execution_count": 5,
   "metadata": {},
   "outputs": [],
   "source": [
    "with builder:     \n",
    "    source = ugens.SinOsc.ar(frequency=builder['frequency'],)\n",
    "    envelope = ugens.EnvGen.kr(done_action=DoneAction.FREE_SYNTH, \n",
    "                               envelope=Envelope.asr(), \n",
    "                               gate=builder['gate'],)\n",
    "    source = source * builder['amplitude']\n",
    "    source = source * envelope\n",
    "    out = ugens.Out.ar(bus=(0,1), source=source,)"
   ]
  },
  {
   "cell_type": "code",
   "execution_count": 6,
   "metadata": {},
   "outputs": [],
   "source": [
    "synthdef = builder.build().allocate()"
   ]
  },
  {
   "cell_type": "code",
   "execution_count": 7,
   "metadata": {},
   "outputs": [],
   "source": [
    "server.sync()\n",
    "synth = Synth(synthdef)\n",
    "group.append(synth)\n"
   ]
  },
  {
   "cell_type": "code",
   "execution_count": 8,
   "metadata": {},
   "outputs": [],
   "source": [
    "synth['gate'] = 0.0"
   ]
  },
  {
   "cell_type": "code",
   "execution_count": 9,
   "metadata": {},
   "outputs": [
    {
     "name": "stdout",
     "output_type": "stream",
     "text": [
      "NoteEvent(\n",
      "    amplitude=0.9,\n",
      "    delta=10.5,\n",
      "    duration=10.5,\n",
      "    frequency=443,\n",
      "    panning=0.75,\n",
      "    )\n"
     ]
    }
   ],
   "source": [
    "event = patterns.NoteEvent(amplitude=0.9,duration=10.5,frequency=443,panning=0.75)\n",
    "print(format(event))"
   ]
  },
  {
   "cell_type": "code",
   "execution_count": 10,
   "metadata": {},
   "outputs": [
    {
     "name": "stdout",
     "output_type": "stream",
     "text": [
      "Pseq(\n",
      "    (\n",
      "        Prand(\n",
      "            (440, 220, 262, 330),\n",
      "            repetitions=16,\n",
      "            ),\n",
      "        Prand(\n",
      "            (110,),\n",
      "            repetitions=16,\n",
      "            ),\n",
      "        ),\n",
      "    repetitions=4,\n",
      "    )\n"
     ]
    }
   ],
   "source": [
    "patt = patterns.Pseq([patterns.Prand([440,220,262,330], 16), patterns.Prand([110], 16)], 4)\n",
    "print(format(patt))"
   ]
  },
  {
   "cell_type": "code",
   "execution_count": 11,
   "metadata": {},
   "outputs": [
    {
     "ename": "AttributeError",
     "evalue": "module 'supriya.patterns' has no attribute 'Pseries'",
     "output_type": "error",
     "traceback": [
      "\u001b[0;31m---------------------------------------------------------------------------\u001b[0m",
      "\u001b[0;31mAttributeError\u001b[0m                            Traceback (most recent call last)",
      "\u001b[0;32m<ipython-input-11-b264ea33cfe1>\u001b[0m in \u001b[0;36m<module>\u001b[0;34m()\u001b[0m\n\u001b[0;32m----> 1\u001b[0;31m \u001b[0mpatterns\u001b[0m\u001b[0;34m.\u001b[0m\u001b[0mPseries\u001b[0m\u001b[0;34m\u001b[0m\u001b[0m\n\u001b[0m",
      "\u001b[0;31mAttributeError\u001b[0m: module 'supriya.patterns' has no attribute 'Pseries'"
     ]
    }
   ],
   "source": []
  },
  {
   "cell_type": "code",
   "execution_count": 12,
   "metadata": {},
   "outputs": [],
   "source": [
    "import time"
   ]
  },
  {
   "cell_type": "code",
   "execution_count": 13,
   "metadata": {},
   "outputs": [],
   "source": [
    "server.sync()\n",
    "synth = Synth(synthdef)\n",
    "group.append(synth)"
   ]
  },
  {
   "cell_type": "code",
   "execution_count": 14,
   "metadata": {},
   "outputs": [],
   "source": [
    "for x in patt:\n",
    "    synth['frequency'] = x\n",
    "    time.sleep(0.01)"
   ]
  },
  {
   "cell_type": "code",
   "execution_count": 15,
   "metadata": {},
   "outputs": [],
   "source": [
    "synth['gate'] = 0.0"
   ]
  },
  {
   "cell_type": "code",
   "execution_count": 16,
   "metadata": {},
   "outputs": [],
   "source": [
    "from supriya.patterns import *"
   ]
  },
  {
   "cell_type": "code",
   "execution_count": 17,
   "metadata": {},
   "outputs": [],
   "source": [
    "patt = Pbind(synthdef = synthdef, \n",
    "             frequency=Prand([\n",
    "                             Pseq([220,330,440], 1),\n",
    "                             Pseq([262,294,330], 1),\n",
    "                             Pseq([440,392,349], 1)], 4), \n",
    "             duration = Pseq([0.25, 0.25, 0.25], 12))\n"
   ]
  },
  {
   "cell_type": "code",
   "execution_count": 20,
   "metadata": {},
   "outputs": [
    {
     "data": {
      "text/plain": [
       "RealtimeEventPlayer(\n",
       "    Pbind(\n",
       "        duration=Pseq(\n",
       "            (0.25, 0.25, 0.25),\n",
       "            repetitions=12,\n",
       "            ),\n",
       "        frequency=Prand(\n",
       "            (\n",
       "                Pseq(\n",
       "                    (220, 330, 440),\n",
       "                    ),\n",
       "                Pseq(\n",
       "                    (262, 294, 330),\n",
       "                    ),\n",
       "                Pseq(\n",
       "                    (440, 392, 349),\n",
       "                    ),\n",
       "                ),\n",
       "            repetitions=4,\n",
       "            ),\n",
       "        synthdef=<SynthDef: 67294d76ebc8b5c945e4d2065c2dd6c0>,\n",
       "        ),\n",
       "    clock=Clock(),\n",
       "    event_template=NoteEvent(),\n",
       "    server=<Server: udp://127.0.0.1:57751, 8i8o>,\n",
       "    )"
      ]
     },
     "execution_count": 20,
     "metadata": {},
     "output_type": "execute_result"
    }
   ],
   "source": [
    "patt.play()"
   ]
  },
  {
   "cell_type": "code",
   "execution_count": null,
   "metadata": {},
   "outputs": [],
   "source": []
  },
  {
   "cell_type": "code",
   "execution_count": null,
   "metadata": {},
   "outputs": [],
   "source": []
  },
  {
   "cell_type": "code",
   "execution_count": null,
   "metadata": {},
   "outputs": [],
   "source": []
  }
 ],
 "metadata": {
  "kernelspec": {
   "display_name": "Python 3",
   "language": "python",
   "name": "python3"
  },
  "language_info": {
   "codemirror_mode": {
    "name": "ipython",
    "version": 3
   },
   "file_extension": ".py",
   "mimetype": "text/x-python",
   "name": "python",
   "nbconvert_exporter": "python",
   "pygments_lexer": "ipython3",
   "version": "3.6.4"
  }
 },
 "nbformat": 4,
 "nbformat_minor": 2
}
